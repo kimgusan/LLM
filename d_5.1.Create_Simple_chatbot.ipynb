{
 "cells": [
  {
   "cell_type": "markdown",
   "id": "4bd72ac2-66d3-4e46-b712-1edd0c5236de",
   "metadata": {},
   "source": [
    "# 5.1 간단한 챗봇 서비스 만들기\n",
    "- 라이브러리: langchain, openai, stramlit\n",
    "- 언어모델: gpt-4\n",
    "- 임베딩모델: -\n",
    "- 벡터 데이터베이스: -"
   ]
  },
  {
   "cell_type": "markdown",
   "id": "a72b40bf-593e-408f-a380-adbf5ec67cc7",
   "metadata": {},
   "source": [
    "#### Tip.  \n",
    "**streamlit**: 데이터 시각화 및 웹 애플리케이션을 파이썬으로 쉽게 만들 수 있도록 도와주는 오픈소스 라이브러리"
   ]
  },
  {
   "cell_type": "code",
   "execution_count": 6,
   "id": "a80f748a-66b2-45b0-be58-e5e840dbfa17",
   "metadata": {},
   "outputs": [],
   "source": [
    "# import os"
   ]
  },
  {
   "cell_type": "code",
   "execution_count": 5,
   "id": "e52cac65-d62c-4f66-a594-6a7b606953c8",
   "metadata": {},
   "outputs": [],
   "source": [
    "import streamlit as st\n",
    "from langchain.chat_models import ChatOpenAI\n",
    "\n",
    "st.set_page_config(page_title = \"✈️🐥뭐든지 질문하세요\")\n",
    "st.title('✈️🐥뭐든지 질문하세요')\n",
    "\n",
    "def generate_response(input_text): # llm이 답변 생성\n",
    "    llm = ChatOpenAI(\n",
    "        temperature = 0,\n",
    "        model_name = 'gpt-4'\n",
    "    )\n",
    "    st.info(llm.predict(input_text))\n",
    "    \n",
    "\n",
    "with st.form(\"Question\"):\n",
    "    text = st.text_area(\"질문 입력: \", 'What types of text models does OpenAI provide?') # 첫 페이지가 실행될 때 보여줄 질문\n",
    "    submitted = st.form_submit_button('보내기')\n",
    "    generate_response(text)"
   ]
  },
  {
   "cell_type": "code",
   "execution_count": null,
   "id": "ef551520-4a12-4684-8dd3-4eb69078b86b",
   "metadata": {},
   "outputs": [],
   "source": []
  },
  {
   "cell_type": "code",
   "execution_count": null,
   "id": "5e93d630-430b-4912-8384-03d54a64a916",
   "metadata": {},
   "outputs": [],
   "source": []
  },
  {
   "cell_type": "code",
   "execution_count": null,
   "id": "492a76fc-b7c2-4018-9eb1-dad977a1e2af",
   "metadata": {},
   "outputs": [],
   "source": []
  }
 ],
 "metadata": {
  "kernelspec": {
   "display_name": "llm_project",
   "language": "python",
   "name": "llm_project"
  },
  "language_info": {
   "codemirror_mode": {
    "name": "ipython",
    "version": 3
   },
   "file_extension": ".py",
   "mimetype": "text/x-python",
   "name": "python",
   "nbconvert_exporter": "python",
   "pygments_lexer": "ipython3",
   "version": "3.8.19"
  }
 },
 "nbformat": 4,
 "nbformat_minor": 5
}
