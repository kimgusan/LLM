{
 "cells": [
  {
   "cell_type": "markdown",
   "id": "ab44d30b-7aee-47b7-b35e-0e0ecd0a5e21",
   "metadata": {},
   "source": [
    "# 5.7 메일 작성기 만들기\n",
    "- 라이브러리: langchain, openai, streamlit\n",
    "- 언어모델: gpt-4  "
   ]
  },
  {
   "cell_type": "markdown",
   "id": "20e9647c-4055-4f22-8f6b-b13d41db0b47",
   "metadata": {},
   "source": [
    "## 코드 흐름\n",
    "> 메일 뿐만이 아니라 원하는 어느 텍스트 생성이 필요한 곳이면 어디든 적용 가능"
   ]
  },
  {
   "cell_type": "code",
   "execution_count": 8,
   "id": "025749f9-c503-4c56-83eb-3149ef7bdd3e",
   "metadata": {},
   "outputs": [],
   "source": [
    "import os"
   ]
  },
  {
   "cell_type": "code",
   "execution_count": 2,
   "id": "0485e143-df23-4691-a677-b7486bed38ff",
   "metadata": {},
   "outputs": [
    {
     "name": "stderr",
     "output_type": "stream",
     "text": [
      "2024-09-20 16:32:32.018 Thread 'MainThread': missing ScriptRunContext! This warning can be ignored when running in bare mode.\n",
      "2024-09-20 16:32:32.020 Thread 'MainThread': missing ScriptRunContext! This warning can be ignored when running in bare mode.\n",
      "2024-09-20 16:32:32.020 Thread 'MainThread': missing ScriptRunContext! This warning can be ignored when running in bare mode.\n"
     ]
    },
    {
     "data": {
      "text/plain": [
       "DeltaGenerator()"
      ]
     },
     "execution_count": 2,
     "metadata": {},
     "output_type": "execute_result"
    }
   ],
   "source": [
    "import streamlit as st\n",
    "\n",
    "st.set_page_config(page_title=\"이메일 작성 서비스에요~\", page_icon=\":robot:\")\n",
    "st.header(\"이메일 작성기\")"
   ]
  },
  {
   "cell_type": "code",
   "execution_count": 3,
   "id": "ec320f84-d23a-49d3-ae63-7fa0086719d1",
   "metadata": {},
   "outputs": [
    {
     "name": "stderr",
     "output_type": "stream",
     "text": [
      "2024-09-20 16:33:51.897 Thread 'MainThread': missing ScriptRunContext! This warning can be ignored when running in bare mode.\n",
      "2024-09-20 16:33:51.898 Thread 'MainThread': missing ScriptRunContext! This warning can be ignored when running in bare mode.\n",
      "2024-09-20 16:33:51.899 Thread 'MainThread': missing ScriptRunContext! This warning can be ignored when running in bare mode.\n",
      "2024-09-20 16:33:51.899 Session state does not function when running a script without `streamlit run`\n",
      "2024-09-20 16:33:51.900 Thread 'MainThread': missing ScriptRunContext! This warning can be ignored when running in bare mode.\n",
      "2024-09-20 16:33:51.901 Thread 'MainThread': missing ScriptRunContext! This warning can be ignored when running in bare mode.\n"
     ]
    }
   ],
   "source": [
    "def getEmail():\n",
    "    input_text = st.text_area(label=\"메일 입력\", label_visibility='collapsed', placeholder='당신의 메일은...', key=\"input_text\")\n",
    "    return input_text\n",
    "\n",
    "input_text = getEmail()"
   ]
  },
  {
   "cell_type": "code",
   "execution_count": 5,
   "id": "83929679-f790-47bb-a616-1e3d5b1a0f37",
   "metadata": {},
   "outputs": [],
   "source": [
    "# 이메일 변환 작업을 위한 템플릿 정의\n",
    "query_template = \"\"\"\n",
    "    메일을 작성해주세요.\n",
    "    아래는 이메일입니다.\n",
    "    이메일: {email}\n",
    "\"\"\""
   ]
  },
  {
   "cell_type": "code",
   "execution_count": 6,
   "id": "13576cbf-8f14-4012-befd-c76e7b69995c",
   "metadata": {},
   "outputs": [],
   "source": [
    "# 위에서 작성한 탬플릿을 사용하기 위해 PromptTemplate 인스턴스를 생성합니다.\n",
    "from langchain import PromptTemplate\n",
    "# PromptTemplate 인스턴스 생성\n",
    "\n",
    "prompt = PromptTemplate(\n",
    "    input_variables= [\"email\"],\n",
    "    template= query_template\n",
    ")"
   ]
  },
  {
   "cell_type": "code",
   "execution_count": 7,
   "id": "ee699be1-e864-4464-84da-46c82bee8e0c",
   "metadata": {},
   "outputs": [],
   "source": [
    "# LLM 모델 호출\n",
    "from langchain.chat_models import ChatOpenAI\n",
    "# 언어 모델 호출\n",
    "\n",
    "def loadLanguageModel():\n",
    "    llm = ChatOpenAI(temperature =0, model_name = 'gpt-4')\n",
    "    return llm"
   ]
  },
  {
   "cell_type": "code",
   "execution_count": 9,
   "id": "cb246f40-ff8c-4f66-b860-9aa66e532673",
   "metadata": {},
   "outputs": [
    {
     "name": "stderr",
     "output_type": "stream",
     "text": [
      "2024-09-20 16:41:17.134 Thread 'MainThread': missing ScriptRunContext! This warning can be ignored when running in bare mode.\n",
      "2024-09-20 16:41:17.136 Thread 'MainThread': missing ScriptRunContext! This warning can be ignored when running in bare mode.\n",
      "2024-09-20 16:41:17.136 Thread 'MainThread': missing ScriptRunContext! This warning can be ignored when running in bare mode.\n",
      "2024-09-20 16:41:17.137 Thread 'MainThread': missing ScriptRunContext! This warning can be ignored when running in bare mode.\n",
      "2024-09-20 16:41:17.139 Thread 'MainThread': missing ScriptRunContext! This warning can be ignored when running in bare mode.\n",
      "2024-09-20 16:41:17.139 Thread 'MainThread': missing ScriptRunContext! This warning can be ignored when running in bare mode.\n"
     ]
    }
   ],
   "source": [
    "# 에시 이메일 표시\n",
    "st.button(\"*예제를 보여주세요*\", type='secondary', help = \"봇이 작성한 메일을 확인해보세요.\")\n",
    "st.markdown(\"### 봇이 작성한 메일은: \")\n",
    "\n",
    "if input_text:\n",
    "    llm = loadLanguageModel()\n",
    "    # PromptTemplate 및 언어 모델을 사용하여 이메일 형식 지정\n",
    "    prompt_with_email = prompt.format(email=input_text)\n",
    "    formatted_email = llm.predict(prompt_with_email)\n",
    "    # 서식이 지정된 이메일 표시\n",
    "    st.write(formatted_email)"
   ]
  },
  {
   "cell_type": "code",
   "execution_count": null,
   "id": "94046895-99b6-49bd-ad2a-77bf3da3cd06",
   "metadata": {},
   "outputs": [],
   "source": []
  }
 ],
 "metadata": {
  "kernelspec": {
   "display_name": "llm_project",
   "language": "python",
   "name": "llm_project"
  },
  "language_info": {
   "codemirror_mode": {
    "name": "ipython",
    "version": 3
   },
   "file_extension": ".py",
   "mimetype": "text/x-python",
   "name": "python",
   "nbconvert_exporter": "python",
   "pygments_lexer": "ipython3",
   "version": "3.8.19"
  }
 },
 "nbformat": 4,
 "nbformat_minor": 5
}
