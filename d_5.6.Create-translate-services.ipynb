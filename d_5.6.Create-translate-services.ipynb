{
 "cells": [
  {
   "cell_type": "markdown",
   "id": "ab44d30b-7aee-47b7-b35e-0e0ecd0a5e21",
   "metadata": {},
   "source": [
    "# 5.6 번역 서비스 만들기\n",
    "- 라이브러리: langchain, openai, streamlit\n",
    "- 언어모델: gpt-4\n",
    "\n",
    "  "
   ]
  },
  {
   "cell_type": "markdown",
   "id": "20e9647c-4055-4f22-8f6b-b13d41db0b47",
   "metadata": {},
   "source": [
    "## 코드 흐름\n",
    "> 프롬프트는 PromptTemplate 를 사용"
   ]
  },
  {
   "cell_type": "code",
   "execution_count": null,
   "id": "efad8d5f-64be-484d-b7a2-d978d470b693",
   "metadata": {},
   "outputs": [],
   "source": [
    "import os"
   ]
  },
  {
   "cell_type": "code",
   "execution_count": 9,
   "id": "e951ae5f-3809-416e-9fd8-00418c4a7295",
   "metadata": {},
   "outputs": [],
   "source": [
    "import streamlit as st\n",
    "from langchain.chat_models import ChatOpenAI\n",
    "from langchain.prompts import PromptTemplate\n",
    "from langchain.chains import LLMChain\n",
    "# 전체 대화를 저장하기 때문에 메모리 소모가 심함\n",
    "from langchain.memory import ConversationBufferMemory\n",
    "# 일부 대화를 저장하기 때문에 메모리 효율이 높음, 파라미터를 통한 최근 대회 n 개 저장 가능\n",
    "# from langchain.memory import ConversationBufferWindowMemory"
   ]
  },
  {
   "cell_type": "code",
   "execution_count": 10,
   "id": "bd9fc127-16ce-4429-a0ca-943f1ffb332a",
   "metadata": {},
   "outputs": [
    {
     "name": "stderr",
     "output_type": "stream",
     "text": [
      "2024-09-20 16:23:18.768 Thread 'MainThread': missing ScriptRunContext! This warning can be ignored when running in bare mode.\n",
      "2024-09-20 16:23:18.769 Thread 'MainThread': missing ScriptRunContext! This warning can be ignored when running in bare mode.\n",
      "2024-09-20 16:23:18.770 Thread 'MainThread': missing ScriptRunContext! This warning can be ignored when running in bare mode.\n",
      "2024-09-20 16:23:18.770 Thread 'MainThread': missing ScriptRunContext! This warning can be ignored when running in bare mode.\n",
      "2024-09-20 16:23:18.771 Thread 'MainThread': missing ScriptRunContext! This warning can be ignored when running in bare mode.\n",
      "2024-09-20 16:23:18.772 Thread 'MainThread': missing ScriptRunContext! This warning can be ignored when running in bare mode.\n",
      "2024-09-20 16:23:18.774 Thread 'MainThread': missing ScriptRunContext! This warning can be ignored when running in bare mode.\n",
      "2024-09-20 16:23:18.776 Thread 'MainThread': missing ScriptRunContext! This warning can be ignored when running in bare mode.\n",
      "2024-09-20 16:23:18.777 Thread 'MainThread': missing ScriptRunContext! This warning can be ignored when running in bare mode.\n",
      "2024-09-20 16:23:18.778 Thread 'MainThread': missing ScriptRunContext! This warning can be ignored when running in bare mode.\n",
      "2024-09-20 16:23:18.779 Thread 'MainThread': missing ScriptRunContext! This warning can be ignored when running in bare mode.\n",
      "2024-09-20 16:23:18.781 Thread 'MainThread': missing ScriptRunContext! This warning can be ignored when running in bare mode.\n",
      "2024-09-20 16:23:18.781 Thread 'MainThread': missing ScriptRunContext! This warning can be ignored when running in bare mode.\n",
      "2024-09-20 16:23:18.782 Thread 'MainThread': missing ScriptRunContext! This warning can be ignored when running in bare mode.\n",
      "2024-09-20 16:23:18.783 Thread 'MainThread': missing ScriptRunContext! This warning can be ignored when running in bare mode.\n",
      "2024-09-20 16:23:18.783 Thread 'MainThread': missing ScriptRunContext! This warning can be ignored when running in bare mode.\n",
      "2024-09-20 16:23:18.847 Thread 'MainThread': missing ScriptRunContext! This warning can be ignored when running in bare mode.\n",
      "2024-09-20 16:23:18.847 Thread 'MainThread': missing ScriptRunContext! This warning can be ignored when running in bare mode.\n",
      "2024-09-20 16:23:18.848 Thread 'MainThread': missing ScriptRunContext! This warning can be ignored when running in bare mode.\n",
      "2024-09-20 16:23:18.848 Thread 'MainThread': missing ScriptRunContext! This warning can be ignored when running in bare mode.\n"
     ]
    }
   ],
   "source": [
    "# 웹페이지에 보여질 내용\n",
    "langs = [\"Korean\", \"Japanese\", \"Chinese\", \"English\"]  # 언어 이름 대소문자 통일\n",
    "left_co, cent_co, last_co = st.columns(3)\n",
    "\n",
    "# 웹페이지 왼쪽에 언어를 선택할 수 있는 라디오 버튼\n",
    "with st.sidebar:\n",
    "    language = st.radio('번역을 원하는 언어를 선택해주세요.:', langs)\n",
    "\n",
    "st.markdown(\"### 언어 번역 서비스예요~\")\n",
    "prompt = st.text_input('번역을 원하는 텍스트를 입력하세요.')  # 사용자의 텍스트 입력\n",
    "\n",
    "# 프롬프트를 번역으로 지시\n",
    "trans_template = PromptTemplate(\n",
    "    input_variables=['trans'],\n",
    "    template=\"Your task is to translate this text to \" + language + \" TEXT: {trans}\"\n",
    ")\n",
    "\n",
    "# memory는 텍스트 저장 용도\n",
    "memory = ConversationBufferMemory(input_key='trans', memory_key='chat_history')\n",
    "\n",
    "llm = ChatOpenAI(temperature=0.0, model_name='gpt-4')\n",
    "trans_chain = LLMChain(llm=llm, prompt=trans_template, verbose=True, output_key='translate', memory=memory)\n",
    "\n",
    "# 프롬프트가 있으면 이를 처리하고 화면에 응답을 작성\n",
    "if st.button(\"번역\"):\n",
    "    if prompt:\n",
    "        response = trans_chain({'trans': prompt})\n",
    "        st.info(response['translate'])\n"
   ]
  }
 ],
 "metadata": {
  "kernelspec": {
   "display_name": "llm_project",
   "language": "python",
   "name": "llm_project"
  },
  "language_info": {
   "codemirror_mode": {
    "name": "ipython",
    "version": 3
   },
   "file_extension": ".py",
   "mimetype": "text/x-python",
   "name": "python",
   "nbconvert_exporter": "python",
   "pygments_lexer": "ipython3",
   "version": "3.8.19"
  }
 },
 "nbformat": 4,
 "nbformat_minor": 5
}
