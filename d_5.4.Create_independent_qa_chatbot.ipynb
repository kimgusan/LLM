{
 "cells": [
  {
   "cell_type": "markdown",
   "id": "ab44d30b-7aee-47b7-b35e-0e0ecd0a5e21",
   "metadata": {},
   "source": [
    "# 5.4 독립형 질문 챗봇 만들기\n",
    "- 라이브러리: langchain, streamlit, PyPDF2\n",
    "- 언어모델: gpt-3.5-turbo\n",
    "- 임베딩모델: all_MiniLM-L6-v2\n",
    "- 벡터 데이터베이스: 파이스(FAISS)\n",
    "  "
   ]
  },
  {
   "cell_type": "markdown",
   "id": "20e9647c-4055-4f22-8f6b-b13d41db0b47",
   "metadata": {},
   "source": [
    "## 코드 흐름\n",
    "> 내가 가지고 있는 PDF 파일을 이용하여 RAG를 구성  \n",
    "> (질문을 받으면 먼저 내가 가지고 있는 PDF파일에서 내용을 찾아보고 결과를 llm에 제공하여 답변을 하는 방식)"
   ]
  },
  {
   "cell_type": "code",
   "execution_count": null,
   "id": "716faa8b-ba6b-4f4e-a989-2e2a9199bd97",
   "metadata": {},
   "outputs": [],
   "source": []
  }
 ],
 "metadata": {
  "kernelspec": {
   "display_name": "llm_project",
   "language": "python",
   "name": "llm_project"
  },
  "language_info": {
   "codemirror_mode": {
    "name": "ipython",
    "version": 3
   },
   "file_extension": ".py",
   "mimetype": "text/x-python",
   "name": "python",
   "nbconvert_exporter": "python",
   "pygments_lexer": "ipython3",
   "version": "3.8.19"
  }
 },
 "nbformat": 4,
 "nbformat_minor": 5
}
