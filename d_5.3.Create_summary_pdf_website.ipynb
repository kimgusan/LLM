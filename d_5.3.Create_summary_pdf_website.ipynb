{
 "cells": [
  {
   "cell_type": "markdown",
   "id": "ab44d30b-7aee-47b7-b35e-0e0ecd0a5e21",
   "metadata": {},
   "source": [
    "# 5.3 RAG 기반의 챗봇 만들기\n",
    "- 라이브러리: langchain, openai, PyPDF2, sentence-transformers\n",
    "- 언어모델: gpt-3.5-turbo\n",
    "- 임베딩모델: all_MiniLM-L6-v2\n",
    "- 벡터 데이터베이스: 파이스(FAISS)\n",
    "  "
   ]
  },
  {
   "cell_type": "markdown",
   "id": "20e9647c-4055-4f22-8f6b-b13d41db0b47",
   "metadata": {},
   "source": [
    "## 코드 흐름\n",
    "> 사용자가 PDF 파일을 업로드하면 그것을 청크로 분할하고 임베딩 처리  \n",
    "> 그리고 LLM 한테 해당 파일을 요약해 달라고 쿼리를 던지는 흐름"
   ]
  },
  {
   "cell_type": "code",
   "execution_count": 2,
   "id": "a51ee8ae-9758-4847-be9a-15e53519e298",
   "metadata": {},
   "outputs": [
    {
     "name": "stdout",
     "output_type": "stream",
     "text": [
      "Collecting PyPDF2\n",
      "  Using cached pypdf2-3.0.1-py3-none-any.whl.metadata (6.8 kB)\n",
      "Requirement already satisfied: typing_extensions>=3.10.0.0 in /opt/anaconda3/envs/llm_project/lib/python3.8/site-packages (from PyPDF2) (4.12.2)\n",
      "Using cached pypdf2-3.0.1-py3-none-any.whl (232 kB)\n",
      "Installing collected packages: PyPDF2\n",
      "Successfully installed PyPDF2-3.0.1\n"
     ]
    }
   ],
   "source": [
    "# !pip install PyPDF2"
   ]
  },
  {
   "cell_type": "code",
   "execution_count": 4,
   "id": "bb4c4f5c-5ed5-4b32-bf2c-613f223cc08b",
   "metadata": {},
   "outputs": [],
   "source": [
    "import os\n",
    "from PyPDF2 import PdfReader\n",
    "import streamlit as st\n",
    "from langchain.text_splitter import CharacterTextSplitter\n",
    "from langchain.embeddings import HuggingFaceEmbeddings\n",
    "from langchain import FAISS\n",
    "from langchain.chains.question_answering import load_qa_chain\n",
    "from langchain.chat_models import ChatOpenAI\n",
    "from langchain.callbacks import get_openai_callback\n",
    "\n",
    "# 전처리\n",
    "def process_text(text):\n",
    "    #CharacterTextSplitter를 사용하여 텍스트를 청크로 분할\n",
    "    text_splitter = CharacterTextSplitter(\n",
    "        separator=\"\\n\",\n",
    "        chunk_size =1000,\n",
    "        chunk_overlap=200,\n",
    "        length_function = len\n",
    "    )\n",
    "    chunks = text_splitter.split_text(text)\n",
    "\n",
    "    # 임베딩 처리(벡터 변환), 임베딩은 HuggingFacsEmbeddings 모델 사용\n",
    "    embeddings = HuggingFaceEmbeddings(model_name = \"sentence-transformers/all-MiniLM-L6-v2\")\n",
    "    documents = FAISS.from_texts(chunks, embeddings)\n",
    "    return documents\n",
    "\n",
    "\n",
    "def main(): #streamlit을 이용한 웹사이트 생성\n",
    "    st.title(\"📜PDF 요약하기\")\n",
    "    st.divider()\n",
    "    try:\n",
    "        # os.environ[\"OPENAI_API_KEY\"] = \"\"\n",
    "    except ValueError as e:\n",
    "        st.error(str(e))\n",
    "        return\n",
    "\n",
    "    pdf = st.file_uploader(\"PDF파일을 업로드해 주세요\", type='pdf')\n",
    "\n",
    "    if pdf is not None:\n",
    "        pdf_reader = PdfReader(pdf)\n",
    "        text = \"\" # 텍스트 변수에 PDF 내용을 저장\n",
    "        for page in pdf_reader.pages:\n",
    "            text += page.extract_text()\n",
    "\n",
    "        documents = process_text(text)\n",
    "        query = \"업로드된 PDF 파일을 내용을 약 3~5문장으로 요약해주세요.\" # LLM에 PDF파일 요약 요청\n",
    "\n",
    "        if query:\n",
    "            docs = documents.similarity_search(query)\n",
    "            llm = ChatOpenAI(model = 'gpt-3.5-turbo', temperature = 0.1)\n",
    "            chain = load_qa_chain(llm, chain_type = \"stuff\")\n",
    "    \n",
    "            with get_openai_callback() as cost:\n",
    "                response = chain.run(input_documents=docs, question=query)\n",
    "                print(cost)\n",
    "            st.subheader('--요약결과--')\n",
    "            st.write(response)\n",
    "\n",
    "# 파이썬 파일이 사용자에 의해 직접 실행되면 main() 함수를 실행하라\n",
    "if __name__ == \"__main__\":\n",
    "    main()"
   ]
  },
  {
   "cell_type": "code",
   "execution_count": null,
   "id": "e8d066b8-9d9c-47cc-a581-07bade2e631e",
   "metadata": {},
   "outputs": [],
   "source": []
  },
  {
   "cell_type": "code",
   "execution_count": null,
   "id": "716faa8b-ba6b-4f4e-a989-2e2a9199bd97",
   "metadata": {},
   "outputs": [],
   "source": []
  }
 ],
 "metadata": {
  "kernelspec": {
   "display_name": "llm_project",
   "language": "python",
   "name": "llm_project"
  },
  "language_info": {
   "codemirror_mode": {
    "name": "ipython",
    "version": 3
   },
   "file_extension": ".py",
   "mimetype": "text/x-python",
   "name": "python",
   "nbconvert_exporter": "python",
   "pygments_lexer": "ipython3",
   "version": "3.8.19"
  }
 },
 "nbformat": 4,
 "nbformat_minor": 5
}
