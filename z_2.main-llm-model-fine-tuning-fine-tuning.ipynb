{
 "cells": [
  {
   "cell_type": "markdown",
   "id": "52ce041c-f273-4703-ba3d-ac5a0a0b8cb3",
   "metadata": {},
   "source": [
    "# gpt 3.5 모델 fine-tuning\n",
    "- 모델을 다운받아 전처리 하는 방식이 아닌 통신을 통한 fine-tuning 방식 사용."
   ]
  },
  {
   "cell_type": "code",
   "execution_count": 39,
   "id": "8829e9f9-ae64-4e02-8c5a-aedbd44ea30b",
   "metadata": {},
   "outputs": [],
   "source": [
    "import pandas as pd\n",
    "\n",
    "ex_df = pd.read_csv('./data/explan_site_list.csv')\n",
    "ex_df = ex_df.iloc[:,1:3]"
   ]
  },
  {
   "cell_type": "code",
   "execution_count": 40,
   "id": "c57cccb7-9bc4-4c1d-b667-08d8005e5c20",
   "metadata": {},
   "outputs": [
    {
     "data": {
      "text/html": [
       "<div>\n",
       "<style scoped>\n",
       "    .dataframe tbody tr th:only-of-type {\n",
       "        vertical-align: middle;\n",
       "    }\n",
       "\n",
       "    .dataframe tbody tr th {\n",
       "        vertical-align: top;\n",
       "    }\n",
       "\n",
       "    .dataframe thead th {\n",
       "        text-align: right;\n",
       "    }\n",
       "</style>\n",
       "<table border=\"1\" class=\"dataframe\">\n",
       "  <thead>\n",
       "    <tr style=\"text-align: right;\">\n",
       "      <th></th>\n",
       "      <th>question</th>\n",
       "      <th>answer</th>\n",
       "    </tr>\n",
       "  </thead>\n",
       "  <tbody>\n",
       "    <tr>\n",
       "      <th>0</th>\n",
       "      <td>https://google.com/</td>\n",
       "      <td>세계 최고의 검색엔진, 다양한 서비스 통합(Gmail, Drive 등)</td>\n",
       "    </tr>\n",
       "    <tr>\n",
       "      <th>1</th>\n",
       "      <td>https://youtube.com/</td>\n",
       "      <td>세계 최대의 동영상 플랫폼, 다양한 콘텐츠 업로드 및 스트리밍 가능</td>\n",
       "    </tr>\n",
       "    <tr>\n",
       "      <th>2</th>\n",
       "      <td>https://facebook.com/</td>\n",
       "      <td>소셜 네트워크의 대표주자, 친구와의 연결 및 콘텐츠 공유 가능</td>\n",
       "    </tr>\n",
       "    <tr>\n",
       "      <th>3</th>\n",
       "      <td>https://wikipedia.org/</td>\n",
       "      <td>모두가 편집할 수 있는 세계 최대의 온라인 백과사전</td>\n",
       "    </tr>\n",
       "    <tr>\n",
       "      <th>4</th>\n",
       "      <td>https://instagram.com/</td>\n",
       "      <td>비주얼 중심의 소셜 미디어, 사진 및 동영상 공유 중심</td>\n",
       "    </tr>\n",
       "    <tr>\n",
       "      <th>5</th>\n",
       "      <td>https://reddit.com/</td>\n",
       "      <td>커뮤니티 기반의 콘텐츠 공유 플랫폼, 다양한 주제의 토론과 정보 공유</td>\n",
       "    </tr>\n",
       "    <tr>\n",
       "      <th>6</th>\n",
       "      <td>https://pornhub.com/</td>\n",
       "      <td>성인 콘텐츠 공유 플랫폼</td>\n",
       "    </tr>\n",
       "    <tr>\n",
       "      <th>7</th>\n",
       "      <td>https://bing.com/</td>\n",
       "      <td>마이크로소프트가 제공하는 검색 엔진, 다양한 툴과 기능 제공</td>\n",
       "    </tr>\n",
       "    <tr>\n",
       "      <th>8</th>\n",
       "      <td>https://x.com/</td>\n",
       "      <td>이전의 Twitter, 짧은 메시지 기반의 소셜 미디어 플랫폼</td>\n",
       "    </tr>\n",
       "    <tr>\n",
       "      <th>9</th>\n",
       "      <td>https://whatsapp.com/</td>\n",
       "      <td>무료 메신저 서비스, 영상 및 음성 통화 제공</td>\n",
       "    </tr>\n",
       "    <tr>\n",
       "      <th>10</th>\n",
       "      <td>https://xvideos.com/</td>\n",
       "      <td>성인 콘텐츠 제공 플랫폼</td>\n",
       "    </tr>\n",
       "    <tr>\n",
       "      <th>11</th>\n",
       "      <td>https://yahoo.com/</td>\n",
       "      <td>뉴스, 이메일 및 다양한 서비스 제공하는 포털 사이트</td>\n",
       "    </tr>\n",
       "    <tr>\n",
       "      <th>12</th>\n",
       "      <td>https://twitter.com/</td>\n",
       "      <td>이전의 Twitter, 짧은 메시지 기반의 소셜 미디어 플랫폼</td>\n",
       "    </tr>\n",
       "    <tr>\n",
       "      <th>13</th>\n",
       "      <td>https://amazon.com/</td>\n",
       "      <td>세계 최대의 온라인 쇼핑몰, 다양한 제품 및 빠른 배송 서비스 제공</td>\n",
       "    </tr>\n",
       "    <tr>\n",
       "      <th>14</th>\n",
       "      <td>https://chatgpt.com/</td>\n",
       "      <td>최신 인공지능 대화형 서비스 플랫폼</td>\n",
       "    </tr>\n",
       "    <tr>\n",
       "      <th>15</th>\n",
       "      <td>https://yandex.ru/</td>\n",
       "      <td>러시아 최대의 검색 엔진 및 포털 사이트</td>\n",
       "    </tr>\n",
       "    <tr>\n",
       "      <th>16</th>\n",
       "      <td>https://duckduckgo.com/</td>\n",
       "      <td>프라이버시 보호를 강조하는 검색 엔진, 사용자의 데이터를 추적하지 않음</td>\n",
       "    </tr>\n",
       "    <tr>\n",
       "      <th>17</th>\n",
       "      <td>https://tiktok.com/</td>\n",
       "      <td>짧은 동영상 중심의 소셜 미디어 플랫폼, 젊은 층에서 인기</td>\n",
       "    </tr>\n",
       "    <tr>\n",
       "      <th>18</th>\n",
       "      <td>https://yahoo.co.jp/</td>\n",
       "      <td>일본에서 가장 인기 있는 포털 사이트 중 하나</td>\n",
       "    </tr>\n",
       "    <tr>\n",
       "      <th>19</th>\n",
       "      <td>https://msn.com/</td>\n",
       "      <td>마이크로소프트가 운영하는 뉴스 및 포털 사이트</td>\n",
       "    </tr>\n",
       "  </tbody>\n",
       "</table>\n",
       "</div>"
      ],
      "text/plain": [
       "                   question                                   answer\n",
       "0       https://google.com/  세계 최고의 검색엔진, 다양한 서비스 통합(Gmail, Drive 등)\n",
       "1      https://youtube.com/    세계 최대의 동영상 플랫폼, 다양한 콘텐츠 업로드 및 스트리밍 가능\n",
       "2     https://facebook.com/       소셜 네트워크의 대표주자, 친구와의 연결 및 콘텐츠 공유 가능\n",
       "3    https://wikipedia.org/             모두가 편집할 수 있는 세계 최대의 온라인 백과사전\n",
       "4    https://instagram.com/           비주얼 중심의 소셜 미디어, 사진 및 동영상 공유 중심\n",
       "5       https://reddit.com/   커뮤니티 기반의 콘텐츠 공유 플랫폼, 다양한 주제의 토론과 정보 공유\n",
       "6      https://pornhub.com/                            성인 콘텐츠 공유 플랫폼\n",
       "7         https://bing.com/        마이크로소프트가 제공하는 검색 엔진, 다양한 툴과 기능 제공\n",
       "8            https://x.com/       이전의 Twitter, 짧은 메시지 기반의 소셜 미디어 플랫폼\n",
       "9     https://whatsapp.com/                무료 메신저 서비스, 영상 및 음성 통화 제공\n",
       "10     https://xvideos.com/                            성인 콘텐츠 제공 플랫폼\n",
       "11       https://yahoo.com/            뉴스, 이메일 및 다양한 서비스 제공하는 포털 사이트\n",
       "12     https://twitter.com/       이전의 Twitter, 짧은 메시지 기반의 소셜 미디어 플랫폼\n",
       "13      https://amazon.com/    세계 최대의 온라인 쇼핑몰, 다양한 제품 및 빠른 배송 서비스 제공\n",
       "14     https://chatgpt.com/                      최신 인공지능 대화형 서비스 플랫폼\n",
       "15       https://yandex.ru/                   러시아 최대의 검색 엔진 및 포털 사이트\n",
       "16  https://duckduckgo.com/  프라이버시 보호를 강조하는 검색 엔진, 사용자의 데이터를 추적하지 않음\n",
       "17      https://tiktok.com/         짧은 동영상 중심의 소셜 미디어 플랫폼, 젊은 층에서 인기\n",
       "18     https://yahoo.co.jp/                일본에서 가장 인기 있는 포털 사이트 중 하나\n",
       "19         https://msn.com/                마이크로소프트가 운영하는 뉴스 및 포털 사이트"
      ]
     },
     "execution_count": 40,
     "metadata": {},
     "output_type": "execute_result"
    }
   ],
   "source": [
    "ex_df"
   ]
  },
  {
   "cell_type": "markdown",
   "id": "c7d99a81-9280-43e9-a5c9-30b663d9281d",
   "metadata": {},
   "source": [
    "## 데이터를 gpt 형식에 맞춰 변환하여 jsonl 파일로 저장 후 신규 모델 저장 및 사용 진행"
   ]
  },
  {
   "cell_type": "code",
   "execution_count": 43,
   "id": "b1a9b1b1-3ba1-4960-af21-47a0dad4caba",
   "metadata": {},
   "outputs": [
    {
     "name": "stdout",
     "output_type": "stream",
     "text": [
      "JSONL 파일 생성 완료!\n"
     ]
    }
   ],
   "source": [
    "import json \n",
    "\n",
    "# JSONL 형식으로 변환\n",
    "jsonl_data = []\n",
    "\n",
    "for index, row in ex_df.iterrows():\n",
    "    jsonl_data.append({\n",
    "        \"messages\": [\n",
    "            {\"role\": \"system\", \"content\": \"You are an informative and polite assistant.\"},\n",
    "            {\"role\": \"user\", \"content\": row['question']},\n",
    "            {\"role\": \"assistant\", \"content\": row['answer']}\n",
    "        ]\n",
    "    })\n",
    "\n",
    "\n",
    "# JSONL 파일 저장\n",
    "with open('another_site_explain.jsonl', 'w', encoding = 'utf-8') as f:\n",
    "    for entry in jsonl_data:\n",
    "        json.dump(entry, f, ensure_ascii=False)\n",
    "        f.write('\\n')\n",
    "\n",
    "print(\"JSONL 파일 생성 완료!\")\n"
   ]
  },
  {
   "cell_type": "code",
   "execution_count": 17,
   "id": "7e14dce0-7f70-4f14-b53c-bc8f37c4aa95",
   "metadata": {},
   "outputs": [],
   "source": [
    "# API 키 입력\n",
    "# import os"
   ]
  },
  {
   "cell_type": "code",
   "execution_count": 1,
   "id": "8bef56fb-9d45-4be7-a502-0fdc50b78866",
   "metadata": {},
   "outputs": [],
   "source": [
    "# # JSONL 파일로 저장된 훈련 파일 업로드\n",
    "# from openai import OpenAI\n",
    "# client = OpenAI()\n",
    "\n",
    "# client.files.create(\n",
    "#     file = open('./data/another_site_explain.jsonl', 'rb'),\n",
    "#     purpose = 'fine-tune'\n",
    "# )"
   ]
  },
  {
   "cell_type": "markdown",
   "id": "857b5eca-8713-4f65-8fea-ca575789620d",
   "metadata": {},
   "source": [
    "## 미세 조정 모델 생성"
   ]
  },
  {
   "cell_type": "code",
   "execution_count": 2,
   "id": "582df279-852d-46ba-a315-ce1ee1d2557d",
   "metadata": {},
   "outputs": [],
   "source": [
    "# client.fine_tuning.jobs.create(\n",
    "#     training_file='file-V7mAmx58phtbJ2WXLDQDIa8I',  # 업로드된 파일 ID 사용\n",
    "#     model='gpt-3.5-turbo-0125'\n",
    "# )"
   ]
  }
 ],
 "metadata": {
  "kernelspec": {
   "display_name": "Python 3 (ipykernel)",
   "language": "python",
   "name": "python3"
  },
  "language_info": {
   "codemirror_mode": {
    "name": "ipython",
    "version": 3
   },
   "file_extension": ".py",
   "mimetype": "text/x-python",
   "name": "python",
   "nbconvert_exporter": "python",
   "pygments_lexer": "ipython3",
   "version": "3.11.8"
  }
 },
 "nbformat": 4,
 "nbformat_minor": 5
}
