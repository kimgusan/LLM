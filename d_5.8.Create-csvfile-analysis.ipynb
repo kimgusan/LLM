{
 "cells": [
  {
   "cell_type": "markdown",
   "id": "ab44d30b-7aee-47b7-b35e-0e0ecd0a5e21",
   "metadata": {},
   "source": [
    "# 5.8 csv 파일 분석기 만들기\n",
    "- 라이브러리: langchain_experimental, openai, streamlit\n",
    "- 언어모델: gpt-3.5-turbo"
   ]
  },
  {
   "cell_type": "markdown",
   "id": "20e9647c-4055-4f22-8f6b-b13d41db0b47",
   "metadata": {},
   "source": [
    "## 코드 흐름\n",
    "> 파이썬 3.9 버젼 이상의 pandas 를 사용  \n",
    "(conda 가상환경에서 버젼이 맞지 않아 추가 base 가상환경에서 실습 진행)  \n",
    "> 코드는 동일"
   ]
  },
  {
   "cell_type": "code",
   "execution_count": 1,
   "id": "0718da92-02f5-44f0-893e-b90ad92c3abf",
   "metadata": {},
   "outputs": [
    {
     "name": "stdout",
     "output_type": "stream",
     "text": [
      "Python 3.11.8\n"
     ]
    }
   ],
   "source": [
    "# llm_project conda 가상환경\n",
    "!python --version"
   ]
  },
  {
   "cell_type": "code",
   "execution_count": 2,
   "id": "43996ab7-dc07-4a52-9c04-ddde9c5642fd",
   "metadata": {},
   "outputs": [
    {
     "name": "stdout",
     "output_type": "stream",
     "text": [
      "Python 3.11.8\n"
     ]
    }
   ],
   "source": [
    "# base conda 가상환경\n",
    "!python --version"
   ]
  },
  {
   "cell_type": "code",
   "execution_count": 3,
   "id": "94046895-99b6-49bd-ad2a-77bf3da3cd06",
   "metadata": {},
   "outputs": [
    {
     "data": {
      "text/html": [
       "<div>\n",
       "<style scoped>\n",
       "    .dataframe tbody tr th:only-of-type {\n",
       "        vertical-align: middle;\n",
       "    }\n",
       "\n",
       "    .dataframe tbody tr th {\n",
       "        vertical-align: top;\n",
       "    }\n",
       "\n",
       "    .dataframe thead th {\n",
       "        text-align: right;\n",
       "    }\n",
       "</style>\n",
       "<table border=\"1\" class=\"dataframe\">\n",
       "  <thead>\n",
       "    <tr style=\"text-align: right;\">\n",
       "      <th></th>\n",
       "      <th>title</th>\n",
       "      <th>subtitle</th>\n",
       "      <th>authors</th>\n",
       "      <th>categories</th>\n",
       "      <th>thumbnail</th>\n",
       "      <th>description</th>\n",
       "      <th>published_year</th>\n",
       "      <th>average_rating</th>\n",
       "      <th>num_pages</th>\n",
       "      <th>ratings_count</th>\n",
       "    </tr>\n",
       "  </thead>\n",
       "  <tbody>\n",
       "    <tr>\n",
       "      <th>0</th>\n",
       "      <td>Gilead</td>\n",
       "      <td>NaN</td>\n",
       "      <td>Marilynne Robinson</td>\n",
       "      <td>Fiction</td>\n",
       "      <td>http://books.google.com/books/content?id=KQZCP...</td>\n",
       "      <td>A NOVEL THAT READERS and critics have been eag...</td>\n",
       "      <td>2004</td>\n",
       "      <td>3.85</td>\n",
       "      <td>247</td>\n",
       "      <td>361</td>\n",
       "    </tr>\n",
       "    <tr>\n",
       "      <th>1</th>\n",
       "      <td>Spider's Web</td>\n",
       "      <td>A Novel</td>\n",
       "      <td>Charles Osborne;Agatha Christie</td>\n",
       "      <td>Detective and mystery stories</td>\n",
       "      <td>http://books.google.com/books/content?id=gA5GP...</td>\n",
       "      <td>A new 'Christie for Christmas' -- a full-lengt...</td>\n",
       "      <td>2000</td>\n",
       "      <td>3.83</td>\n",
       "      <td>241</td>\n",
       "      <td>5164</td>\n",
       "    </tr>\n",
       "    <tr>\n",
       "      <th>2</th>\n",
       "      <td>The One Tree</td>\n",
       "      <td>NaN</td>\n",
       "      <td>Stephen R. Donaldson</td>\n",
       "      <td>American fiction</td>\n",
       "      <td>http://books.google.com/books/content?id=OmQaw...</td>\n",
       "      <td>Volume Two of Stephen Donaldson's acclaimed se...</td>\n",
       "      <td>1982</td>\n",
       "      <td>3.97</td>\n",
       "      <td>479</td>\n",
       "      <td>172</td>\n",
       "    </tr>\n",
       "    <tr>\n",
       "      <th>3</th>\n",
       "      <td>Rage of angels</td>\n",
       "      <td>NaN</td>\n",
       "      <td>Sidney Sheldon</td>\n",
       "      <td>Fiction</td>\n",
       "      <td>http://books.google.com/books/content?id=FKo2T...</td>\n",
       "      <td>A memorable, mesmerizing heroine Jennifer -- b...</td>\n",
       "      <td>1993</td>\n",
       "      <td>3.93</td>\n",
       "      <td>512</td>\n",
       "      <td>29532</td>\n",
       "    </tr>\n",
       "    <tr>\n",
       "      <th>4</th>\n",
       "      <td>The Four Loves</td>\n",
       "      <td>NaN</td>\n",
       "      <td>Clive Staples Lewis</td>\n",
       "      <td>Christian life</td>\n",
       "      <td>http://books.google.com/books/content?id=XhQ5X...</td>\n",
       "      <td>Lewis' work on the nature of love divides love...</td>\n",
       "      <td>2002</td>\n",
       "      <td>4.15</td>\n",
       "      <td>170</td>\n",
       "      <td>33684</td>\n",
       "    </tr>\n",
       "  </tbody>\n",
       "</table>\n",
       "</div>"
      ],
      "text/plain": [
       "            title subtitle                          authors  \\\n",
       "0          Gilead      NaN               Marilynne Robinson   \n",
       "1    Spider's Web  A Novel  Charles Osborne;Agatha Christie   \n",
       "2    The One Tree      NaN             Stephen R. Donaldson   \n",
       "3  Rage of angels      NaN                   Sidney Sheldon   \n",
       "4  The Four Loves      NaN              Clive Staples Lewis   \n",
       "\n",
       "                      categories  \\\n",
       "0                        Fiction   \n",
       "1  Detective and mystery stories   \n",
       "2               American fiction   \n",
       "3                        Fiction   \n",
       "4                 Christian life   \n",
       "\n",
       "                                           thumbnail  \\\n",
       "0  http://books.google.com/books/content?id=KQZCP...   \n",
       "1  http://books.google.com/books/content?id=gA5GP...   \n",
       "2  http://books.google.com/books/content?id=OmQaw...   \n",
       "3  http://books.google.com/books/content?id=FKo2T...   \n",
       "4  http://books.google.com/books/content?id=XhQ5X...   \n",
       "\n",
       "                                         description  published_year  \\\n",
       "0  A NOVEL THAT READERS and critics have been eag...            2004   \n",
       "1  A new 'Christie for Christmas' -- a full-lengt...            2000   \n",
       "2  Volume Two of Stephen Donaldson's acclaimed se...            1982   \n",
       "3  A memorable, mesmerizing heroine Jennifer -- b...            1993   \n",
       "4  Lewis' work on the nature of love divides love...            2002   \n",
       "\n",
       "   average_rating  num_pages  ratings_count  \n",
       "0            3.85        247            361  \n",
       "1            3.83        241           5164  \n",
       "2            3.97        479            172  \n",
       "3            3.93        512          29532  \n",
       "4            4.15        170          33684  "
      ]
     },
     "execution_count": 3,
     "metadata": {},
     "output_type": "execute_result"
    }
   ],
   "source": [
    "import pandas as pd\n",
    "\n",
    "b_df = pd.read_csv('./data/booksv_02.csv')\n",
    "b_df.head(5)"
   ]
  },
  {
   "cell_type": "code",
   "execution_count": 4,
   "id": "2661a561-4bb0-43aa-8d86-0d7d33d84860",
   "metadata": {
    "scrolled": true
   },
   "outputs": [],
   "source": [
    "# pip install --upgrade langchain langchain-experimental langchain-community langchain-core"
   ]
  },
  {
   "cell_type": "code",
   "execution_count": 9,
   "id": "11e92fc0-f73b-4a15-904b-92ecdb44f06c",
   "metadata": {},
   "outputs": [],
   "source": [
    "from langchain_experimental.agents.agent_toolkits import create_pandas_dataframe_agent\n",
    "from langchain.chat_models import ChatOpenAI\n",
    "from langchain.agents.agent_types import AgentType"
   ]
  },
  {
   "cell_type": "code",
   "execution_count": 11,
   "id": "9d8cfe47-6265-457d-9032-5347c8d49301",
   "metadata": {},
   "outputs": [],
   "source": [
    "# 에이전트 생성\n",
    "agent = create_pandas_dataframe_agent(\n",
    "    ChatOpenAI(temperature=0, model_name = 'gpt-3.5-turbo'),\n",
    "    b_df, # 데이터 프레임\n",
    "    verbose = False, #추론 과정을 출력하지 않음\n",
    "    agent_type = AgentType.OPENAI_FUNCTIONS,\n",
    "    allow_dangerous_code=True  # 이 옵션을 추가하여 위험한 코드 실행을 허용\n",
    ")"
   ]
  },
  {
   "cell_type": "code",
   "execution_count": 12,
   "id": "76b626f8-db3b-47ad-8115-0bd80275c77c",
   "metadata": {},
   "outputs": [
    {
     "data": {
      "text/plain": [
       "'가장 높은 ratings_count를 가진 제품은 \"One Hundred Years of Solitude\" 입니다.'"
      ]
     },
     "execution_count": 12,
     "metadata": {},
     "output_type": "execute_result"
    }
   ],
   "source": [
    "agent.run('어떤 제품의 ratings_count가 제일 높아?')"
   ]
  },
  {
   "cell_type": "code",
   "execution_count": 13,
   "id": "eeaf42fe-0282-4e51-8aee-f77b9eaa425d",
   "metadata": {},
   "outputs": [
    {
     "data": {
      "text/plain": [
       "'가장 최근에 출간된 책은 \"The Yiddish Policemen\\'s Union\"입니다.'"
      ]
     },
     "execution_count": 13,
     "metadata": {},
     "output_type": "execute_result"
    }
   ],
   "source": [
    "agent.run('가장 최근에 출간된 책은?')"
   ]
  },
  {
   "cell_type": "code",
   "execution_count": null,
   "id": "437c8761-5c48-4f1c-8fd3-145bc4262ab4",
   "metadata": {},
   "outputs": [],
   "source": []
  },
  {
   "cell_type": "code",
   "execution_count": null,
   "id": "ac185db3-69f5-4a06-b42b-447185ae69c1",
   "metadata": {},
   "outputs": [],
   "source": []
  }
 ],
 "metadata": {
  "kernelspec": {
   "display_name": "Python 3 (ipykernel)",
   "language": "python",
   "name": "python3"
  },
  "language_info": {
   "codemirror_mode": {
    "name": "ipython",
    "version": 3
   },
   "file_extension": ".py",
   "mimetype": "text/x-python",
   "name": "python",
   "nbconvert_exporter": "python",
   "pygments_lexer": "ipython3",
   "version": "3.11.8"
  }
 },
 "nbformat": 4,
 "nbformat_minor": 5
}
